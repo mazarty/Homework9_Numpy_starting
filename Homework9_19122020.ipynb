{
 "cells": [
  {
   "cell_type": "code",
   "execution_count": 9,
   "metadata": {},
   "outputs": [
    {
     "name": "stdout",
     "output_type": "stream",
     "text": [
      "[19, 18, 17, 16, 15, 14, 13, 12, 11, 10, 9, 8, 7, 6, 5, 4, 3, 2, 1, 0]\n"
     ]
    }
   ],
   "source": [
    "#Задание 1\n",
    "#Создайте numpy array с элементами от числа N до 0 (например, для N = 10 это будет array([9, 8, 7, 6, 5, 4, 3, 2, 1, 0])).\n",
    "\n",
    "import  numpy as np\n",
    "n=20 \n",
    "ar1 =  np.arange(0, n)[::-1]\n",
    "\n",
    "print(list(ar1))"
   ]
  },
  {
   "cell_type": "code",
   "execution_count": 39,
   "metadata": {
    "scrolled": true
   },
   "outputs": [
    {
     "name": "stdout",
     "output_type": "stream",
     "text": [
      "[[15 14 13 12]\n",
      " [11 10  9  8]\n",
      " [ 7  6  5  4]\n",
      " [ 3  2  1  0]]\n",
      "сумма по диагонали= 30\n"
     ]
    }
   ],
   "source": [
    "#Задание 2\n",
    "#Создайте диагональную матрицу с элементами от N до 0. Посчитайте сумму ее значений на диагонали.\n",
    "\n",
    "import  numpy as np\n",
    "n=16\n",
    "ar1 =  np.arange(0, n)[::-1]\n",
    "\n",
    "rows_n = int(n**(0.5))\n",
    "\n",
    "if rows_n**2 == n:\n",
    "    ar2 = ar1.reshape(rows_n,rows_n)\n",
    "\n",
    "print(ar2)\n",
    "print('сумма по диагонали=', ar2.trace())\n"
   ]
  },
  {
   "cell_type": "code",
   "execution_count": null,
   "metadata": {},
   "outputs": [],
   "source": [
    "\"\"\"\"\n",
    "4x + 2y + z = 4\n",
    "x + 3y = 12\n",
    "5y + 4z = -3\n",
    "\"\"\"\""
   ]
  },
  {
   "cell_type": "code",
   "execution_count": 45,
   "metadata": {},
   "outputs": [
    {
     "data": {
      "text/plain": [
       "array([ 0.46666667,  3.84444444, -5.55555556])"
      ]
     },
     "execution_count": 45,
     "metadata": {},
     "output_type": "execute_result"
    }
   ],
   "source": [
    "#Задание 3\n",
    "#Решите систему уравнений:\n",
    "\n",
    "import  numpy as np\n",
    "from numpy import linalg\n",
    "\n",
    "\n",
    "a = np.array([[4, 2, 1], [1, 3, 0], [0, 5, 4]])\n",
    "k = np.array([4, 12, -3])\n",
    "\n",
    "linalg.solve(a, k)\n",
    "\n"
   ]
  },
  {
   "cell_type": "markdown",
   "metadata": {},
   "source": [
    "#проверка\n",
    "print('k1=', 4*0.46666667 +2*3.84444444 +1*(-5.55555556))\n",
    "print('k2=', 1*0.46666667 +3*3.84444444 +0*(-5.55555556))\n",
    "print('k3=', 0*0.46666667 +5*3.84444444 +4*(-5.55555556))"
   ]
  },
  {
   "cell_type": "code",
   "execution_count": 61,
   "metadata": {},
   "outputs": [
    {
     "name": "stdout",
     "output_type": "stream",
     "text": [
      "Минимальное расстояние =  0.9486832980505138 для пользователя с покупками [0 1 1 0 0 0]\n"
     ]
    }
   ],
   "source": [
    "#Задание 4\n",
    "#Имеется матрица покупок в интернет-магазине. Столбец А - ID пользователя. \n",
    "#Остальные столбцы - количество покупок категорий товаров этим пользователем:\n",
    "#Найдите самого похожего пользователя. \n",
    "#Т. е. посчитайте косинусное сходство между этим пользователем и всеми пользователями из массива user_stats\n",
    "\n",
    "users_stats = np.array(\n",
    "    [\n",
    "        [2, 1, 0, 0, 0, 0],\n",
    "        [1, 1, 2, 1, 0, 0],\n",
    "        [2, 0, 1, 0, 0, 0],\n",
    "        [1, 1, 2, 1, 0, 1],\n",
    "        [0, 0, 1, 2, 0, 0],\n",
    "        [0, 0, 0, 0, 0, 5],\n",
    "        [1, 0, 0, 0, 0, 0],\n",
    "        [0, 1, 1, 0, 0, 0],\n",
    "        [0, 0, 0, 1, 1, 3],\n",
    "        [1, 0, 0, 2, 1, 4]\n",
    "    ], \n",
    "    np.int32\n",
    ")\n",
    "\n",
    "#На сайт заходит очередной посетитель, о покупках которого известно следующее:\n",
    "next_user_stats = np.array([0, 1, 2, 0, 0, 0])\n",
    "\n",
    "def cosine (a, b):\n",
    "    aLength = np.linalg.norm(a)\n",
    "    bLength = np.linalg.norm(b)\n",
    "    return np.dot(a, b) / (aLength * bLength)\n",
    "\n",
    "min_cos = 0\n",
    "min_cos_row = []\n",
    "for i in users_stats:\n",
    "    tmp = cosine(next_user_stats, i)\n",
    "    if tmp > min_cos: \n",
    "        min_cos = tmp\n",
    "        min_cos_row = i\n",
    "    \n",
    "print('Минимальное расстояние = ', min_cos, 'для пользователя с покупками', min_cos_row )\n",
    "\n"
   ]
  }
 ],
 "metadata": {
  "kernelspec": {
   "display_name": "Python 3",
   "language": "python",
   "name": "python3"
  },
  "language_info": {
   "codemirror_mode": {
    "name": "ipython",
    "version": 3
   },
   "file_extension": ".py",
   "mimetype": "text/x-python",
   "name": "python",
   "nbconvert_exporter": "python",
   "pygments_lexer": "ipython3",
   "version": "3.8.3"
  }
 },
 "nbformat": 4,
 "nbformat_minor": 4
}
